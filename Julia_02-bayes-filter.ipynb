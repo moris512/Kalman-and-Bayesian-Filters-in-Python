{
 "cells": [
  {
   "cell_type": "markdown",
   "id": "2346a087",
   "metadata": {},
   "source": [
    "## Julia Version of Chapter 2 Bayes-Filter\n",
    "\n",
    "Let's beging by stating that the Bayes-Filter is a super set contaning the G-H Filter (a.k.a. $\\alpha - \\beta$ Filter).\n",
    "\n",
    "Before comparing both of them, let's remind ourselves the difference between *Probability* and *Likelihood*.\n",
    "\n",
    "* *Probability:* I believe in a model described by $f_{x}(\\cdot)$, and then I calculate the chances of seeing the data $\\mathcal{D}$, given that model.<br>\n",
    "$\\rightarrow$ What are the chances of seeing this data given my model?\n",
    "\n",
    "* *Likelihood:* I believe my data $\\mathcal{D}$, and I want to see what are the chances that this data comes from the model $f_{x}(\\cdot)$.<br>\n",
    "$\\rightarrow$ How plaussible is that this model $f_{x}(\\cdot)$ is the one describing the dynamics given the data $\\mathcal{D}$.\n",
    "\n",
    "Now, the Bayes-Filter has the main steps as the G-H Filter: An initial assumption, a prediction step, and an update step.\n",
    "\n",
    "1. **Initial Assumption**: I make an initial assumption of my state, usually by using a probability distribution\n",
    "$$ p(x_0)$$\n",
    "\n",
    "2. **Prediction Step**: Similarly to the G-H Filter, I have a model of the dynamics of my system (*process-model*) to calculate my *belief*.\n",
    "$$\n",
    "\\bar{x}_{k+1} = x_k + f_x(\\cdot)\n",
    "$$\n",
    "&nbsp;&nbsp;&nbsp;&nbsp; In terms of probabilities this is:\n",
    "$$\n",
    "p(x_t | x_{t-1})\n",
    "$$\n",
    "After assuming what I think the state of my system will be (*belief*), I take into account the error of my measurement device and form my *prior*. Basically it will be a convolution to modify my probability function $p(x_t | x_{t-1})$ with the probability distribution of my sensor:\n",
    "\n",
    "$$ (f \\ast g) (t) = \\int_0^t \\!f(\\tau) \\, g(t-\\tau) \\, \\mathrm{d}\\tau$$\n",
    "\n",
    "Integrals are for continuous functions, but we are using discrete functions. We replace the integral with a summation, and the parenthesis with array brackets.\n",
    "\n",
    "$$ (f \\ast g) [t] = \\sum\\limits_{\\tau=0}^t \\!f[\\tau] \\, g[t-\\tau]$$\n",
    "\n",
    "&nbsp;&nbsp;&nbsp;&nbsp; $\\rightarrow$ Incorporating measurement error\n",
    "$$\n",
    "p(x_t | z_{1:t-1}) = \\int p(x_t | x_{t-1}) p(x_{t-1} | z_{1:t-1}) \\mathrm{d}x_{t-1}\n",
    "$$\n",
    "\n",
    "3. **Update Step**: In this step:\n",
    "\n",
    "&nbsp;&nbsp;&nbsp;&nbsp; $\\rightarrow$ we take the measurement $z_t$, \n",
    "\n",
    "&nbsp;&nbsp;&nbsp;&nbsp; $\\rightarrow$ we compute how likely it is that we have obtained this measurement given the state $\\mathcal{L(z_t | x_t)}$ or equivalently $p(z_t | x_t)$.\n",
    "\n",
    "&nbsp;&nbsp;&nbsp;&nbsp; $\\rightarrow$ then we update our belief of $x_t$ given what the calculated likelihood, obtaining our *a-posteriori*.\n",
    "$$\n",
    "\\mathbf{x} = \\|{\\mathcal{L} \\cdot \\bar{\\mathbf{x}}}\\|\n",
    "$$"
   ]
  }
 ],
 "metadata": {
  "kernelspec": {
   "display_name": "Julia 1.11.2",
   "language": "julia",
   "name": "julia-1.11"
  },
  "language_info": {
   "file_extension": ".jl",
   "mimetype": "application/julia",
   "name": "julia",
   "version": "1.11.2"
  }
 },
 "nbformat": 4,
 "nbformat_minor": 5
}
